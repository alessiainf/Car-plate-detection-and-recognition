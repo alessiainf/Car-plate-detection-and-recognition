{
  "nbformat": 4,
  "nbformat_minor": 0,
  "metadata": {
    "colab": {
      "provenance": [],
      "collapsed_sections": [
        "l3LEAWtQYnng",
        "TQatLbx9Y2Qt",
        "3WnwfnUpb5Fs",
        "Z2-Fum19r_E9"
      ],
      "gpuType": "T4"
    },
    "kernelspec": {
      "name": "python3",
      "display_name": "Python 3"
    },
    "language_info": {
      "name": "python"
    },
    "accelerator": "GPU"
  },
  "cells": [
    {
      "cell_type": "markdown",
      "source": [
        "# Imports"
      ],
      "metadata": {
        "id": "l3LEAWtQYnng"
      }
    },
    {
      "cell_type": "code",
      "source": [
        "import os\n",
        "import numpy as np\n",
        "import warnings\n",
        "warnings.filterwarnings(\"ignore\", category=FutureWarning)\n",
        "from torch.utils.data import Dataset, DataLoader\n",
        "from torchvision import transforms\n",
        "import torch\n",
        "import torch.nn as nn\n",
        "import math\n",
        "from PIL import Image\n",
        "import torch.optim as optim\n",
        "from tqdm import tqdm\n",
        "import matplotlib.pyplot as plt\n",
        "print(torch.cuda.is_available())\n",
        "print(torch.__version__)\n",
        "import random\n",
        "import csv\n",
        "import string\n",
        "from torch.nn.utils.rnn import pad_sequence\n",
        "from torch.optim import Adam\n",
        "from torch.optim.lr_scheduler import ReduceLROnPlateau\n",
        "#data\n",
        "from google.colab import drive\n",
        "import zipfile\n",
        "import os\n"
      ],
      "metadata": {
        "colab": {
          "base_uri": "https://localhost:8080/"
        },
        "id": "BxvfmCbyY0zN",
        "outputId": "b73d3149-c0d8-418e-ce70-92c7719f42a1"
      },
      "execution_count": null,
      "outputs": [
        {
          "output_type": "stream",
          "name": "stdout",
          "text": [
            "True\n",
            "2.6.0+cu124\n"
          ]
        }
      ]
    },
    {
      "cell_type": "markdown",
      "source": [
        "# Utils"
      ],
      "metadata": {
        "id": "TQatLbx9Y2Qt"
      }
    },
    {
      "cell_type": "code",
      "source": [
        "def set_seed(seed=42):\n",
        "    random.seed(seed)\n",
        "    np.random.seed(seed)\n",
        "    torch.manual_seed(seed)\n",
        "    torch.cuda.manual_seed(seed)\n",
        "    torch.cuda.manual_seed_all(seed)\n",
        "\n",
        "    torch.backends.cudnn.deterministic = True\n",
        "    torch.backends.cudnn.benchmark = False"
      ],
      "metadata": {
        "id": "AK2ylXhMY9Ck"
      },
      "execution_count": null,
      "outputs": []
    },
    {
      "cell_type": "code",
      "source": [
        "def collate_fn(batch):\n",
        "    images, labels = zip(*batch)\n",
        "    images = torch.stack(images)  # [B, C, H, W]\n",
        "    targets = torch.cat(labels)\n",
        "    label_lengths = torch.tensor([len(l) for l in labels], dtype=torch.long)  # [B]\n",
        "    input_lengths = torch.full((len(images),), 18, dtype=torch.long)  # [B]\n",
        "\n",
        "    return images, targets, input_lengths, label_lengths\n"
      ],
      "metadata": {
        "id": "zIHtHk_AZpE_"
      },
      "execution_count": null,
      "outputs": []
    },
    {
      "cell_type": "code",
      "source": [
        "def ctc_decode(pred_indices, idx_to_char, blank_idx=0):\n",
        "    decoded = []\n",
        "    prev = None\n",
        "    for i in pred_indices:\n",
        "        if i != prev and i != blank_idx:\n",
        "            decoded.append(idx_to_char[i])\n",
        "        prev = i\n",
        "    return ''.join(decoded)"
      ],
      "metadata": {
        "id": "2LQLDeqrZ8Nh"
      },
      "execution_count": null,
      "outputs": []
    },
    {
      "cell_type": "markdown",
      "source": [
        "# Data"
      ],
      "metadata": {
        "id": "3WnwfnUpb5Fs"
      }
    },
    {
      "cell_type": "code",
      "source": [
        "drive.mount('/content/drive')\n",
        "\n",
        "# 2. Percorso del tuo ZIP (modifica il path se diverso)\n",
        "zip_path = \"/content/drive/MyDrive/Dataset_CV/RECOGNITION/UC3-LM_recognition.zip\"\n",
        "\n",
        "# 3. Estrazione nella cartella corrente\n",
        "extract_dir = \"/content\"\n",
        "\n",
        "with zipfile.ZipFile(zip_path, 'r') as zip_ref:\n",
        "    zip_ref.extractall(extract_dir)"
      ],
      "metadata": {
        "colab": {
          "base_uri": "https://localhost:8080/"
        },
        "id": "mFVCYbqDcAm_",
        "outputId": "0850010d-2ce2-47d9-e3b0-36ec77d31dd7"
      },
      "execution_count": null,
      "outputs": [
        {
          "output_type": "stream",
          "name": "stdout",
          "text": [
            "Drive already mounted at /content/drive; to attempt to forcibly remount, call drive.mount(\"/content/drive\", force_remount=True).\n"
          ]
        }
      ]
    },
    {
      "cell_type": "code",
      "source": [
        "chars = list(string.ascii_uppercase) + list(string.digits)\n",
        "\n",
        "# Il carattere '-' è riservato come blank per CTC (indice 0)\n",
        "idx_to_char = ['-'] + sorted(chars)\n",
        "char_to_idx = {char: idx for idx, char in enumerate(idx_to_char)}\n",
        "vocab = list(char_to_idx.keys())\n",
        "num_classes = len(idx_to_char)  # da usare per definire il decoder\n"
      ],
      "metadata": {
        "id": "Hm-h1mNSh8Yy"
      },
      "execution_count": null,
      "outputs": []
    },
    {
      "cell_type": "code",
      "source": [
        "class LicensePlateDataset(Dataset):\n",
        "    def __init__(self, images_dir, labels_dir, transform=None, charset=None):\n",
        "        self.images_dir = images_dir\n",
        "        self.labels_dir = labels_dir\n",
        "        self.transform = transform\n",
        "        self.charset = charset or list(\"ABCDEFGHIJKLMNOPQRSTUVWXYZ0123456789\")\n",
        "        self.char_to_idx = {c: i+1 for i, c in enumerate(self.charset)}  # 0 = blank\n",
        "\n",
        "        self.image_files = sorted([\n",
        "            f for f in os.listdir(images_dir)\n",
        "            if f.endswith(('.jpg', '.png')) and os.path.isfile(os.path.join(labels_dir, f.replace('.jpg', '.txt')))\n",
        "        ])\n",
        "\n",
        "    def __len__(self):\n",
        "        return len(self.image_files)\n",
        "\n",
        "    def encode_label(self, text):\n",
        "        return torch.tensor([self.char_to_idx[c] for c in text if c in self.char_to_idx], dtype=torch.long)\n",
        "\n",
        "    def __getitem__(self, idx):\n",
        "        img_name = self.image_files[idx]\n",
        "        img_path = os.path.join(self.images_dir, img_name)\n",
        "        label_path = os.path.join(self.labels_dir, img_name.replace('.jpg', '.txt'))\n",
        "\n",
        "        image = Image.open(img_path).convert('RGB')\n",
        "        if self.transform:\n",
        "            image = self.transform(image)\n",
        "\n",
        "        with open(label_path, 'r') as f:\n",
        "            label_text = f.read().strip()\n",
        "\n",
        "        label_tensor = self.encode_label(label_text)\n",
        "        return image, label_tensor\n"
      ],
      "metadata": {
        "id": "C4l1Kd5QiBX2"
      },
      "execution_count": null,
      "outputs": []
    },
    {
      "cell_type": "code",
      "source": [
        "train_transform = transforms.Compose([\n",
        "    transforms.Resize((48, 144)),\n",
        "\n",
        "    transforms.ColorJitter(\n",
        "        brightness=0.3,\n",
        "        contrast=0.3,\n",
        "\n",
        "    ),\n",
        "\n",
        "    transforms.RandomAffine(\n",
        "        degrees=2,\n",
        "        translate=(0.02, 0.02),\n",
        "        scale=(0.9, 1.1)\n",
        "    ),\n",
        "\n",
        "    transforms.ToTensor(),\n",
        "    transforms.Normalize(mean=[0.5]*3, std=[0.5]*3)\n",
        "])\n",
        "\n",
        "# === VALIDATION/TEST TRANSFORM ===\n",
        "val_transform = transforms.Compose([\n",
        "    transforms.Resize((48, 144)),\n",
        "    transforms.ToTensor(),\n",
        "    transforms.Normalize(mean=[0.5]*3, std=[0.5]*3)\n",
        "])\n",
        "\n",
        "test_transform = transforms.Compose([\n",
        "    transforms.Resize((48, 144)),\n",
        "    transforms.ToTensor(),\n",
        "    transforms.Normalize(mean=[0.5]*3, std=[0.5]*3)\n",
        "])\n"
      ],
      "metadata": {
        "id": "BLCQkM_ZiKbN"
      },
      "execution_count": null,
      "outputs": []
    },
    {
      "cell_type": "code",
      "source": [
        "train_dataset = LicensePlateDataset(\n",
        "    images_dir='/content/filtered_OCR_clean/images/train',\n",
        "    labels_dir='/content/filtered_OCR_clean/labels/train',\n",
        "    transform=train_transform\n",
        ")\n",
        "\n",
        "val_dataset = LicensePlateDataset(\n",
        "    images_dir='/content/filtered_OCR_clean/images/val',\n",
        "    labels_dir='/content/filtered_OCR_clean/labels/val',\n",
        "    transform=val_transform\n",
        ")\n",
        "test_dataset = LicensePlateDataset(\n",
        "    images_dir=\"/content/filtered_OCR_clean/images/test\",\n",
        "    labels_dir=\"/content/filtered_OCR_clean/labels/test\",\n",
        "    transform=test_transform,\n",
        "    charset=list(\"ABCDEFGHIJKLMNOPQRSTUVWXYZ0123456789\")\n",
        ")\n",
        "train_loader = DataLoader(train_dataset, batch_size=32, shuffle=True, collate_fn=collate_fn)\n",
        "val_loader = DataLoader(val_dataset, batch_size=32, shuffle=False, collate_fn=collate_fn)\n",
        "test_loader = DataLoader(test_dataset, batch_size=32, shuffle=False, collate_fn=collate_fn)\n",
        "\n"
      ],
      "metadata": {
        "id": "Bbysr5fUiMr-"
      },
      "execution_count": null,
      "outputs": []
    },
    {
      "cell_type": "code",
      "source": [
        "for i in range(5):\n",
        "    img, _ = train_dataset[i]\n",
        "    img = img.permute(1, 2, 0) * 0.5 + 0.5\n",
        "    plt.imshow(img.numpy())\n",
        "    plt.title(f\"Esempio {i}\")\n",
        "    plt.axis('off')\n",
        "    plt.show()"
      ],
      "metadata": {
        "colab": {
          "base_uri": "https://localhost:8080/",
          "height": 1000
        },
        "collapsed": true,
        "id": "dYqncqwjjW5V",
        "outputId": "4d37b3e4-1b3a-44d3-d738-993b3b636514"
      },
      "execution_count": null,
      "outputs": [
        {
          "output_type": "display_data",
          "data": {
            "text/plain": [
              "<Figure size 640x480 with 1 Axes>"
            ],
            "image/png": "[encoded data removed]"
          },
          "metadata": {}
        },
        {
          "output_type": "display_data",
          "data": {
            "text/plain": [
              "<Figure size 640x480 with 1 Axes>"
            ],
            "image/png": "[encoded data removed]"
          },
          "metadata": {}
        },
        {
          "output_type": "display_data",
          "data": {
            "text/plain": [
              "<Figure size 640x480 with 1 Axes>"
            ],
            "image/png": "[encoded data removed]"
          },
          "metadata": {}
        },
        {
          "output_type": "display_data",
          "data": {
            "text/plain": [
              "<Figure size 640x480 with 1 Axes>"
            ],
            "image/png": "[encoded data removed]"
          },
          "metadata": {}
        },
        {
          "output_type": "display_data",
          "data": {
            "text/plain": [
              "<Figure size 640x480 with 1 Axes>"
            ],
            "image/png": "[encoded data removed]"
          },
          "metadata": {}
        }
      ]
    },
    {
      "cell_type": "markdown",
      "metadata": {
        "id": "Z2-Fum19r_E9"
      },
      "source": [
        "# Network"
      ]
    },
    {
      "cell_type": "markdown",
      "metadata": {
        "id": "PTlBO0kVYTLd"
      },
      "source": [
        "## IGFE"
      ]
    },
    {
      "cell_type": "markdown",
      "metadata": {
        "id": "8Jt1ueFcYZN0"
      },
      "source": [
        "### Focus structure Module"
      ]
    },
    {
      "cell_type": "markdown",
      "metadata": {
        "id": "h4To3S-0aled"
      },
      "source": [
        "Obiettivo: diminuire la dimensione spaziale dell'immagine senza perdita di informazione. \\\\\n",
        "\n",
        "è il primo step di IGFE. \\\\\n",
        "\n",
        "prende in input un tensore (3,48,144) (canale,altezza,larghezza) e deve fare poi: \\\\\n",
        "1) slicing dell'immagine: si prendono pixel a intervalli alternati per ottenere 4 feature maps da 3 canali ciascuno -> (3, 24, 72) \\\\\n",
        "2) concatenazione lungo il canale (torch.cat): si concatenano tutte queste mappe e si ottengono feature map di dimensione ->  (12, 24, 72)  \\\\\n",
        "3) convoluzione (Conv2d): il paper non specifica i parametri usati. Yolov5 usa: Conv2d(in_channels=12, out_channels=32, kernel_size=3, stride=1, padding=1)\n"
      ]
    },
    {
      "cell_type": "code",
      "execution_count": null,
      "metadata": {
        "id": "qO8pW6fhYTmL"
      },
      "outputs": [],
      "source": [
        "class FocusStructure(nn.Module):\n",
        "    def __init__(self, in_channels=3, out_channels=32, kernel_size=3, stride=1, padding=1):\n",
        "        super(FocusStructure, self).__init__()\n",
        "        self.conv = nn.Conv2d(in_channels * 4, out_channels, kernel_size, stride, padding)\n",
        "\n",
        "    def forward(self, x):\n",
        "        # slicing\n",
        "        x1 = x[..., ::2, ::2]\n",
        "        x2 = x[..., ::2, 1::2]\n",
        "        x3 = x[..., 1::2, ::2]\n",
        "        x4 = x[..., 1::2, 1::2]\n",
        "        #concatenation\n",
        "        x = torch.cat([x1, x2, x3, x4], dim=1)\n",
        "        return self.conv(x)"
      ]
    },
    {
      "cell_type": "markdown",
      "metadata": {
        "id": "sWueuzt_sQDj"
      },
      "source": [
        "### RESBLOCK"
      ]
    },
    {
      "cell_type": "code",
      "execution_count": null,
      "metadata": {
        "id": "8QyBeT07sPfp"
      },
      "outputs": [],
      "source": [
        "class CNNBlock(nn.Module):\n",
        "    def __init__(self, in_channels, out_channels):\n",
        "        super(CNNBlock, self).__init__()\n",
        "        self.block = nn.Sequential(\n",
        "            nn.Conv2d(in_channels, out_channels, kernel_size=3, stride=1, padding=1),\n",
        "            nn.BatchNorm2d(out_channels),\n",
        "            nn.LeakyReLU(inplace=True)\n",
        "        )\n",
        "\n",
        "    def forward(self, x):\n",
        "        return self.block(x)\n",
        "\n",
        "class RESBLOCK(nn.Module):\n",
        "    def __init__(self, channels):\n",
        "        super(RESBLOCK, self).__init__()\n",
        "        self.cnn1 = CNNBlock(channels, channels)\n",
        "        self.cnn2 = CNNBlock(channels, channels)\n",
        "\n",
        "    def forward(self, x):\n",
        "        out = self.cnn1(x)\n",
        "        out = self.cnn2(out)\n",
        "        return out + x  # residual connection"
      ]
    },
    {
      "cell_type": "markdown",
      "metadata": {
        "id": "zDCX5fnfsm_z"
      },
      "source": [
        "### ConvDownSampling"
      ]
    },
    {
      "cell_type": "code",
      "execution_count": null,
      "metadata": {
        "id": "nfKbBLTusrxJ"
      },
      "outputs": [],
      "source": [
        "class ConvDownSampling(nn.Module):\n",
        "    def __init__(self, in_channels, out_channels):\n",
        "        super(ConvDownSampling, self).__init__()\n",
        "        self.block = nn.Sequential(\n",
        "            nn.Conv2d(in_channels, out_channels, kernel_size=3, stride=2, padding=1),\n",
        "            nn.BatchNorm2d(out_channels),\n",
        "            nn.LeakyReLU(inplace=True)\n",
        "        )\n",
        "\n",
        "    def forward(self, x):\n",
        "        return self.block(x)"
      ]
    },
    {
      "cell_type": "markdown",
      "metadata": {
        "id": "wQPDZ1wms70z"
      },
      "source": [
        "### Feature extractor"
      ]
    },
    {
      "cell_type": "code",
      "execution_count": null,
      "metadata": {
        "id": "AcljZYJIs7KL"
      },
      "outputs": [],
      "source": [
        "class IGFE(nn.Module):\n",
        "    def __init__(self):\n",
        "        super().__init__()\n",
        "        self.focus = FocusStructure()            # [3, 48, 144] → [32, 24, 72]\n",
        "        self.res1 = RESBLOCK(32)\n",
        "        self.res2 = RESBLOCK(32)\n",
        "        self.down1 = ConvDownSampling(32, 256)   # [12, 24, 72] → [256, 12, 36]\n",
        "        self.res3 = RESBLOCK(256)\n",
        "        self.res4 = RESBLOCK(256)\n",
        "        self.down2 = ConvDownSampling(256, 512)  # [256, 12, 36] → [512, 6, 18]\n",
        "\n",
        "    def forward(self, x):\n",
        "        x = self.focus(x)\n",
        "        x = self.res1(x)\n",
        "        x = self.res2(x)\n",
        "        x = self.down1(x)\n",
        "        x = self.res3(x)\n",
        "        x = self.res4(x)\n",
        "        x = self.down2(x)\n",
        "        return x  # Final Output: [B, 512, 6, 18]"
      ]
    },
    {
      "cell_type": "markdown",
      "metadata": {
        "id": "_QOdeP6Mt89m"
      },
      "source": [
        "## Encoder"
      ]
    },
    {
      "cell_type": "markdown",
      "metadata": {
        "id": "DaD0Sypn6Tmn"
      },
      "source": [
        "Positional Encoding"
      ]
    },
    {
      "cell_type": "code",
      "execution_count": null,
      "metadata": {
        "id": "OVKF7C6_6VSu"
      },
      "outputs": [],
      "source": [
        "class PositionalEncoding(nn.Module):\n",
        "    def __init__(self, d_model, height, width):\n",
        "        super(PositionalEncoding, self).__init__()\n",
        "        self.height = height\n",
        "        self.width = width\n",
        "\n",
        "        if d_model % 4 != 0:\n",
        "            raise ValueError(\"d_model must be divisible by 4 for 2D positional encoding\")\n",
        "\n",
        "        pe = torch.zeros(d_model, height, width)\n",
        "        d_model_half = d_model // 2\n",
        "        div_term = torch.exp(torch.arange(0, d_model_half, 2).float() * (-math.log(10000.0) / d_model_half))\n",
        "\n",
        "        pos_w = torch.arange(0, width).unsqueeze(1)\n",
        "        pos_h = torch.arange(0, height).unsqueeze(1)\n",
        "\n",
        "        pe[0:d_model_half:2, :, :] = torch.sin(pos_w * div_term).transpose(0, 1).unsqueeze(1).repeat(1, height, 1)\n",
        "        pe[1:d_model_half:2, :, :] = torch.cos(pos_w * div_term).transpose(0, 1).unsqueeze(1).repeat(1, height, 1)\n",
        "        pe[d_model_half::2, :, :] = torch.sin(pos_h * div_term).transpose(0, 1).unsqueeze(2).repeat(1, 1, width)\n",
        "        pe[d_model_half + 1::2, :, :] = torch.cos(pos_h * div_term).transpose(0, 1).unsqueeze(2).repeat(1, 1, width)\n",
        "\n",
        "        self.register_buffer('pe', pe.unsqueeze(0))  # [1, d_model, H, W]\n",
        "\n",
        "    def forward(self, x):\n",
        "        return x + self.pe[:, :, :x.size(2), :x.size(3)]"
      ]
    },
    {
      "cell_type": "code",
      "execution_count": null,
      "metadata": {
        "id": "UZR3WtY-xNTP"
      },
      "outputs": [],
      "source": [
        "class EncoderUnit(nn.Module):\n",
        "    def __init__(self, d_model=512, d_mha=1024, n_heads=8, height=6, width=18):\n",
        "        super(EncoderUnit, self).__init__()\n",
        "        self.height = height\n",
        "        self.width = width\n",
        "        self.d_mha = d_mha\n",
        "\n",
        "        self.conv1 = nn.Conv2d(d_model, d_mha, kernel_size=1)\n",
        "        self.mha = nn.MultiheadAttention(d_mha, n_heads, batch_first=True)\n",
        "        self.conv2 = nn.Conv2d(d_mha, d_model, kernel_size=1)\n",
        "        self.norm = nn.LayerNorm(d_model)  # **LayerNorm **\n",
        "\n",
        "    def forward(self, x):\n",
        "        B, C, H, W = x.shape\n",
        "        # Conv1 → [B, 1024, 6, 18]\n",
        "        x1 = self.conv1(x)\n",
        "\n",
        "        # Flatten for MHA → [B, 108, 1024]\n",
        "        x1_seq = x1.view(B, self.d_mha, H * W).permute(0, 2, 1)\n",
        "\n",
        "        # Multi-Head Attention\n",
        "        attn_out, _ = self.mha(x1_seq, x1_seq, x1_seq)  # [B, 108, 1024]\n",
        "\n",
        "        # Reshape a feature map and CNN BLOCK 2\n",
        "        attn_out = attn_out.permute(0, 2, 1).view(B, self.d_mha, H, W)\n",
        "        x2 = self.conv2(attn_out)  # [B, 512, 6, 18]\n",
        "\n",
        "        # Residual + LayerNorm **(token-wise)**\n",
        "        # Flatten of x e x2 → [B, 108, 512]\n",
        "        x2_seq = x2.view(B, C, H * W).permute(0, 2, 1)\n",
        "        x_res_seq = x.view(B, C, H * W).permute(0, 2, 1)\n",
        "\n",
        "        norm_out = self.norm(x2_seq + x_res_seq)\n",
        "\n",
        "        # return to the previous dimensions [B, 512, 6, 18]\n",
        "        out = norm_out.permute(0, 2, 1).view(B, C, H, W)\n",
        "        return out\n",
        "\n",
        "class Encoder(nn.Module):\n",
        "    def __init__(self, d_model=512, d_mha=1024, n_heads=8, num_units=3, height=6, width=18):\n",
        "        super(Encoder, self).__init__()\n",
        "        self.pe2d = PositionalEncoding(d_model, height, width)\n",
        "        self.encoder_units = nn.ModuleList([\n",
        "            EncoderUnit(d_model=d_model, d_mha=d_mha, n_heads=n_heads, height=height, width=width)\n",
        "            for _ in range(num_units)\n",
        "        ])\n",
        "\n",
        "    def forward(self, x):\n",
        "        # x: [B, 512, 6, 18]\n",
        "        x = self.pe2d(x)\n",
        "        for unit in self.encoder_units:\n",
        "            x = unit(x)\n",
        "        return x  # [B, 512, 6, 18]\n"
      ]
    },
    {
      "cell_type": "markdown",
      "metadata": {
        "id": "RIW6a_5r_Lml"
      },
      "source": [
        "## Decoder"
      ]
    },
    {
      "cell_type": "code",
      "execution_count": null,
      "metadata": {
        "id": "Hz6Kj-KZHrwl"
      },
      "outputs": [],
      "source": [
        "class PositionalEncoding1D(nn.Module):\n",
        "    def __init__(self, d_model, max_len=18):\n",
        "        super().__init__()\n",
        "        pe = torch.zeros(max_len, d_model)\n",
        "        position = torch.arange(0, max_len).unsqueeze(1).float()\n",
        "        div_term = torch.exp(torch.arange(0, d_model, 2).float() * -(math.log(10000.0) / d_model))\n",
        "        pe[:, 0::2] = torch.sin(position * div_term)\n",
        "        pe[:, 1::2] = torch.cos(position * div_term)\n",
        "        self.pe = pe.unsqueeze(0)  # [1, max_len, d_model]\n",
        "\n",
        "    def forward(self, x):  # x: [B, T, D]\n",
        "        if x.size(1) > self.pe.size(1):\n",
        "            raise ValueError(f\"Sequence length {x.size(1)} exceeds max_len={self.pe.size(1)} in PositionalEncoding1D.\")\n",
        "        return x + self.pe[:, :x.size(1)].to(x.device)\n",
        "\n",
        "# === Masked Self-Attention ===\n",
        "class MaskedMultiHeadSelfAttention(nn.Module):\n",
        "    def __init__(self, embed_dim, num_heads):\n",
        "        super().__init__()\n",
        "        self.attn = nn.MultiheadAttention(embed_dim, num_heads, batch_first=True)\n",
        "        self.norm = nn.LayerNorm(embed_dim)\n",
        "\n",
        "    def forward(self, x):\n",
        "        B, T, _ = x.shape\n",
        "        mask = torch.triu(torch.ones(T, T) * float('-inf'), diagonal=1).to(x.device)\n",
        "        attn_output, _ = self.attn(x, x, x, attn_mask=mask)\n",
        "        return self.norm(x + attn_output)\n",
        "\n",
        "\n",
        "# === Cross-Attention ===\n",
        "class CrossAttention(nn.Module):\n",
        "    def __init__(self, embed_dim, num_heads):\n",
        "        super().__init__()\n",
        "        self.attn = nn.MultiheadAttention(embed_dim, num_heads, batch_first=True)\n",
        "        self.norm = nn.LayerNorm(embed_dim)\n",
        "\n",
        "    def forward(self, x, context):\n",
        "        attn_output, _ = self.attn(x, context, context)\n",
        "        return self.norm(x + attn_output)\n",
        "\n",
        "\n",
        "# === Feed Forward Network ===\n",
        "class FeedForwardNetwork(nn.Module):\n",
        "    def __init__(self, embed_dim, dropout=0.1):\n",
        "        super().__init__()\n",
        "        self.ff = nn.Sequential(\n",
        "            nn.Linear(embed_dim, embed_dim),\n",
        "            nn.ReLU(),\n",
        "            nn.Dropout(dropout),\n",
        "            nn.Linear(embed_dim, embed_dim)\n",
        "        )\n",
        "        self.norm = nn.LayerNorm(embed_dim)\n",
        "\n",
        "    def forward(self, x):\n",
        "        return self.norm(x + self.ff(x))\n",
        "\n",
        "\n",
        "# === Decoder Layer: masked self-attn → cross-attn → FFN ===\n",
        "class DecoderLayer(nn.Module):\n",
        "    def __init__(self, embed_dim=512, num_heads=8):\n",
        "        super().__init__()\n",
        "        self.self_attn = MaskedMultiHeadSelfAttention(embed_dim, num_heads)\n",
        "        self.cross_attn = CrossAttention(embed_dim, num_heads)\n",
        "        self.ffn = FeedForwardNetwork(embed_dim)\n",
        "\n",
        "    def forward(self, x, encoder_out):\n",
        "        x = self.self_attn(x)\n",
        "        x = self.cross_attn(x, encoder_out)\n",
        "        x = self.ffn(x)\n",
        "        return x\n",
        "\n",
        "\n",
        "# CNN BLOCK3 (2x1 kernel, stride=(3,1), padding=1)\n",
        "class CNNBlock3(nn.Module):\n",
        "    def __init__(self):\n",
        "        super().__init__()\n",
        "        self.conv = nn.Conv2d(512, 512, kernel_size=(2, 1), stride=(3, 1), padding=(1,0))\n",
        "        self.norm = nn.BatchNorm2d(512)\n",
        "        self.act = nn.LeakyReLU(0.1)\n",
        "\n",
        "    def forward(self, x):\n",
        "        return self.act(self.norm(self.conv(x)))  # [B, 512, 3, 18] → approx\n",
        "\n",
        "# CNN BLOCK4 (1x1 kernel, stride=(3,1), padding=(0,1))\n",
        "class CNNBlock4(nn.Module):\n",
        "    def __init__(self):\n",
        "        super().__init__()\n",
        "        self.conv = nn.Conv2d(512, 512, kernel_size=1, stride=(3, 1), padding=(0, 0))\n",
        "        self.norm = nn.BatchNorm2d(512)\n",
        "        self.act = nn.LeakyReLU(0.1)\n",
        "\n",
        "    def forward(self, x):\n",
        "        return self.act(self.norm(self.conv(x)))  # [B, 512, 1, 18]\n",
        "\n",
        "\n",
        "\n",
        "# === Final Parallel Decoder (CTC) ===\n",
        "class ParallelTransformerDecoder(nn.Module):\n",
        "    def __init__(self, num_classes, embed_dim=512, num_heads=8, num_layers=3, max_seq_len=18):\n",
        "        super().__init__()\n",
        "        self.block3 = CNNBlock3()\n",
        "        self.block4 = CNNBlock4()\n",
        "        self.pos_encoder = PositionalEncoding1D(embed_dim, max_len=max_seq_len)\n",
        "\n",
        "        self.layers = nn.ModuleList([\n",
        "            DecoderLayer(embed_dim, num_heads) for _ in range(num_layers)\n",
        "        ])\n",
        "        self.output_layer = nn.Linear(embed_dim, num_classes)\n",
        "\n",
        "    def forward(self, encoder_out):  # encoder_out: [B, 512, 6, 18]\n",
        "        x = self.block3(encoder_out)\n",
        "        x = self.block4(x)\n",
        "        x = x.squeeze(2).permute(0, 2, 1)\n",
        "        x = self.pos_encoder(x)\n",
        "\n",
        "        for i, layer in enumerate(self.layers):\n",
        "            x = layer(x, x)\n",
        "        logits = self.output_layer(x)\n",
        "        return logits\n",
        "\n",
        "\n"
      ]
    },
    {
      "cell_type": "markdown",
      "source": [
        "# Train (Fine-tuning with checkpoints)"
      ],
      "metadata": {
        "id": "5SSi9lDNcH80"
      }
    },
    {
      "cell_type": "code",
      "source": [
        "\n",
        "class LicensePlateRecognizer(nn.Module):\n",
        "    def __init__(self, vocab_size):\n",
        "        super().__init__()\n",
        "        self.igfe = IGFE()\n",
        "        self.encoder = Encoder(\n",
        "            d_model=512, d_mha=1024, n_heads=8, num_units=3, height=6, width=18\n",
        "        )\n",
        "        self.decoder = ParallelTransformerDecoder(\n",
        "            num_classes=vocab_size,\n",
        "            embed_dim=512,\n",
        "            num_heads=8,\n",
        "            num_layers=3,\n",
        "            max_seq_len=18\n",
        "        )\n",
        "\n",
        "    def forward(self, image):\n",
        "        features = self.igfe(image)\n",
        "        encoded = self.encoder(features)\n",
        "        logits = self.decoder(encoded)\n",
        "        return logits\n"
      ],
      "metadata": {
        "id": "231yjcld-0Vg"
      },
      "execution_count": null,
      "outputs": []
    },
    {
      "cell_type": "code",
      "source": [
        "\n",
        "\n",
        "# === CONFIG ===\n",
        "set_seed(42)\n",
        "device = torch.device(\"cuda\" if torch.cuda.is_available() else \"cpu\")\n",
        "checkpoint_dir = \"/content/drive/MyDrive/Computer_vision/checkpoints_PDLPR_UC3M-LP\"\n",
        "os.makedirs(checkpoint_dir, exist_ok=True)\n",
        "\n",
        "last_ckpt_path = os.path.join(checkpoint_dir, \"last.pth\")\n",
        "best_ckpt_path = os.path.join(checkpoint_dir, \"best.pth\")\n",
        "pretrained_path = \"/content/drive/MyDrive/Computer_vision/pdlpr_weights_ccpd2019/pdlpr_ccpd2019.pth\"\n",
        "\n",
        "# === MODEL ===\n",
        "model = LicensePlateRecognizer(vocab_size=len(char_to_idx)).to(device)\n",
        "\n",
        "\n",
        "criterion = torch.nn.CTCLoss(blank=0, reduction='mean', zero_infinity=True)\n",
        "optimizer = Adam(model.parameters(), lr=2e-4, weight_decay=1e-3)\n",
        "scheduler = ReduceLROnPlateau(optimizer, mode='min', factor=0.5, patience=3, min_lr=1e-6, verbose=True)\n",
        "\n",
        "if os.path.exists(last_ckpt_path):\n",
        "    checkpoint = torch.load(last_ckpt_path, map_location=device)\n",
        "    model.load_state_dict(checkpoint['model_state_dict'])\n",
        "    optimizer.load_state_dict(checkpoint['optimizer_state_dict'])\n",
        "    if 'scheduler_state_dict' in checkpoint and checkpoint['scheduler_state_dict'] is not None:\n",
        "        scheduler.load_state_dict(checkpoint['scheduler_state_dict'])\n",
        "    start_epoch = checkpoint['epoch'] + 1\n",
        "    best_val_loss = checkpoint.get('best_val_loss', float('inf'))\n",
        "    print(f\" Resumed from checkpoint (epoch {start_epoch})\")\n",
        "\n",
        "else:\n",
        "\n",
        "    checkpoint = torch.load(pretrained_path, map_location=device)\n",
        "    state_dict = checkpoint['model_state_dict']\n",
        "    filtered_dict = {k: v for k, v in state_dict.items() if not k.startswith('decoder.output_layer')}\n",
        "    model.load_state_dict(filtered_dict, strict=False)\n",
        "\n",
        "    start_epoch = 0\n",
        "    best_val_loss = float('inf')\n",
        "    print(\" Loaded pre-trained model\")\n",
        "\n",
        "\n",
        "def train_finetune(model, train_loader, val_loader, epochs, device, optimizer, criterion, seed=42, scheduler=None):\n",
        "    set_seed(seed)\n",
        "    global best_val_loss\n",
        "    for epoch in range(start_epoch, epochs):\n",
        "        model.train()\n",
        "        total_loss = 0\n",
        "        pbar = tqdm(train_loader, desc=f\"[FT] Epoch {epoch+1}/{epochs}\")\n",
        "\n",
        "        for images, labels, input_lengths, label_lengths in pbar:\n",
        "            images = images.to(device)\n",
        "            labels = labels.to(device)\n",
        "            input_lengths = input_lengths.to(device)\n",
        "            label_lengths = label_lengths.to(device)\n",
        "\n",
        "            outputs = model(images)  # [B, T, C]\n",
        "            log_probs = torch.nn.functional.log_softmax(outputs, dim=-1).permute(1, 0, 2)  # [T, B, C]\n",
        "\n",
        "            loss = criterion(log_probs, labels, input_lengths, label_lengths)\n",
        "\n",
        "            optimizer.zero_grad()\n",
        "            loss.backward()\n",
        "            optimizer.step()\n",
        "\n",
        "            total_loss += loss.item()\n",
        "            pbar.set_postfix(train_loss=total_loss / (pbar.n + 1), lr=optimizer.param_groups[0]['lr'])\n",
        "\n",
        "        val_loss = evaluate_finetune(model, val_loader, criterion, device)\n",
        "        print(f\"\\n[FT] Epoch {epoch+1} - Val Loss: {val_loss:.4f}\")\n",
        "\n",
        "        if scheduler:\n",
        "            scheduler.step(val_loss)\n",
        "\n",
        "\n",
        "        torch.save({\n",
        "            'epoch': epoch,\n",
        "            'model_state_dict': model.state_dict(),\n",
        "            'optimizer_state_dict': optimizer.state_dict(),\n",
        "            'scheduler_state_dict': scheduler.state_dict() if scheduler else None,\n",
        "            'best_val_loss': best_val_loss\n",
        "        }, last_ckpt_path)\n",
        "\n",
        "\n",
        "        if val_loss < best_val_loss:\n",
        "            best_val_loss = val_loss\n",
        "            torch.save(model.state_dict(), best_ckpt_path)\n",
        "            print(f\" New best model saved (Val Loss: {val_loss:.4f})\")\n",
        "\n",
        "def evaluate_finetune(model, val_loader, criterion, device):\n",
        "    model.eval()\n",
        "    total_loss = 0\n",
        "    with torch.no_grad():\n",
        "        for images, labels, input_lengths, label_lengths in val_loader:\n",
        "            images = images.to(device)\n",
        "            labels = labels.to(device)\n",
        "            input_lengths = input_lengths.to(device)\n",
        "            label_lengths = label_lengths.to(device)\n",
        "\n",
        "            outputs = model(images)\n",
        "            log_probs = torch.nn.functional.log_softmax(outputs, dim=-1).permute(1, 0, 2)\n",
        "            loss = criterion(log_probs, labels, input_lengths, label_lengths)\n",
        "            total_loss += loss.item()\n",
        "\n",
        "    return total_loss / len(val_loader)\n",
        "\n",
        "train_finetune(\n",
        "    model=model,\n",
        "    train_loader=train_loader,\n",
        "    val_loader=val_loader,\n",
        "    epochs=20,\n",
        "    device=device,\n",
        "    optimizer=optimizer,\n",
        "    criterion=criterion,\n",
        "    scheduler=scheduler,\n",
        "    seed=42\n",
        ")\n"
      ],
      "metadata": {
        "id": "Qaj_hjv5cKXM",
        "colab": {
          "base_uri": "https://localhost:8080/"
        },
        "outputId": "838cacac-fce9-4803-fe7e-f31ba3196788"
      },
      "execution_count": null,
      "outputs": [
        {
          "output_type": "stream",
          "name": "stderr",
          "text": [
            "/usr/local/lib/python3.11/dist-packages/torch/optim/lr_scheduler.py:62: UserWarning: The verbose parameter is deprecated. Please use get_last_lr() to access the learning rate.\n",
            "  warnings.warn(\n"
          ]
        },
        {
          "output_type": "stream",
          "name": "stdout",
          "text": [
            " Loaded pre-trained model\n"
          ]
        },
        {
          "output_type": "stream",
          "name": "stderr",
          "text": [
            "[FT] Epoch 1/20: 100%|██████████| 64/64 [00:13<00:00,  4.85it/s, lr=0.0002, train_loss=3.41]\n"
          ]
        },
        {
          "output_type": "stream",
          "name": "stdout",
          "text": [
            "\n",
            "[FT] Epoch 1 - Val Loss: 2.7217\n",
            " New best model saved (Val Loss: 2.7217)\n"
          ]
        },
        {
          "output_type": "stream",
          "name": "stderr",
          "text": [
            "[FT] Epoch 2/20: 100%|██████████| 64/64 [00:13<00:00,  4.80it/s, lr=0.0002, train_loss=1.99]\n"
          ]
        },
        {
          "output_type": "stream",
          "name": "stdout",
          "text": [
            "\n",
            "[FT] Epoch 2 - Val Loss: 1.4916\n",
            " New best model saved (Val Loss: 1.4916)\n"
          ]
        },
        {
          "output_type": "stream",
          "name": "stderr",
          "text": [
            "[FT] Epoch 3/20: 100%|██████████| 64/64 [00:14<00:00,  4.51it/s, lr=0.0002, train_loss=0.965]\n"
          ]
        },
        {
          "output_type": "stream",
          "name": "stdout",
          "text": [
            "\n",
            "[FT] Epoch 3 - Val Loss: 0.5436\n",
            " New best model saved (Val Loss: 0.5436)\n"
          ]
        },
        {
          "output_type": "stream",
          "name": "stderr",
          "text": [
            "[FT] Epoch 4/20: 100%|██████████| 64/64 [00:13<00:00,  4.67it/s, lr=0.0002, train_loss=0.433]\n"
          ]
        },
        {
          "output_type": "stream",
          "name": "stdout",
          "text": [
            "\n",
            "[FT] Epoch 4 - Val Loss: 0.3887\n",
            " New best model saved (Val Loss: 0.3887)\n"
          ]
        },
        {
          "output_type": "stream",
          "name": "stderr",
          "text": [
            "[FT] Epoch 5/20: 100%|██████████| 64/64 [00:13<00:00,  4.78it/s, lr=0.0002, train_loss=0.467]\n"
          ]
        },
        {
          "output_type": "stream",
          "name": "stdout",
          "text": [
            "\n",
            "[FT] Epoch 5 - Val Loss: 0.2134\n",
            " New best model saved (Val Loss: 0.2134)\n"
          ]
        },
        {
          "output_type": "stream",
          "name": "stderr",
          "text": [
            "[FT] Epoch 6/20: 100%|██████████| 64/64 [00:13<00:00,  4.70it/s, lr=0.0002, train_loss=0.193]\n"
          ]
        },
        {
          "output_type": "stream",
          "name": "stdout",
          "text": [
            "\n",
            "[FT] Epoch 6 - Val Loss: 0.1508\n",
            " New best model saved (Val Loss: 0.1508)\n"
          ]
        },
        {
          "output_type": "stream",
          "name": "stderr",
          "text": [
            "[FT] Epoch 7/20: 100%|██████████| 64/64 [00:13<00:00,  4.59it/s, lr=0.0002, train_loss=0.181]\n"
          ]
        },
        {
          "output_type": "stream",
          "name": "stdout",
          "text": [
            "\n",
            "[FT] Epoch 7 - Val Loss: 0.1300\n",
            " New best model saved (Val Loss: 0.1300)\n"
          ]
        },
        {
          "output_type": "stream",
          "name": "stderr",
          "text": [
            "[FT] Epoch 8/20: 100%|██████████| 64/64 [00:13<00:00,  4.61it/s, lr=0.0002, train_loss=0.112]\n"
          ]
        },
        {
          "output_type": "stream",
          "name": "stdout",
          "text": [
            "\n",
            "[FT] Epoch 8 - Val Loss: 0.1293\n",
            " New best model saved (Val Loss: 0.1293)\n"
          ]
        },
        {
          "output_type": "stream",
          "name": "stderr",
          "text": [
            "[FT] Epoch 9/20: 100%|██████████| 64/64 [00:13<00:00,  4.74it/s, lr=0.0002, train_loss=0.101]\n"
          ]
        },
        {
          "output_type": "stream",
          "name": "stdout",
          "text": [
            "\n",
            "[FT] Epoch 9 - Val Loss: 0.1025\n",
            " New best model saved (Val Loss: 0.1025)\n"
          ]
        },
        {
          "output_type": "stream",
          "name": "stderr",
          "text": [
            "[FT] Epoch 10/20: 100%|██████████| 64/64 [00:13<00:00,  4.76it/s, lr=0.0002, train_loss=0.0686]\n"
          ]
        },
        {
          "output_type": "stream",
          "name": "stdout",
          "text": [
            "\n",
            "[FT] Epoch 10 - Val Loss: 0.1111\n"
          ]
        },
        {
          "output_type": "stream",
          "name": "stderr",
          "text": [
            "[FT] Epoch 11/20: 100%|██████████| 64/64 [00:13<00:00,  4.82it/s, lr=0.0002, train_loss=0.111]\n"
          ]
        },
        {
          "output_type": "stream",
          "name": "stdout",
          "text": [
            "\n",
            "[FT] Epoch 11 - Val Loss: 0.1134\n"
          ]
        },
        {
          "output_type": "stream",
          "name": "stderr",
          "text": [
            "[FT] Epoch 12/20: 100%|██████████| 64/64 [00:13<00:00,  4.84it/s, lr=0.0002, train_loss=0.0749]\n"
          ]
        },
        {
          "output_type": "stream",
          "name": "stdout",
          "text": [
            "\n",
            "[FT] Epoch 12 - Val Loss: 0.1100\n"
          ]
        },
        {
          "output_type": "stream",
          "name": "stderr",
          "text": [
            "[FT] Epoch 13/20: 100%|██████████| 64/64 [00:13<00:00,  4.72it/s, lr=0.0002, train_loss=0.0784]\n"
          ]
        },
        {
          "output_type": "stream",
          "name": "stdout",
          "text": [
            "\n",
            "[FT] Epoch 13 - Val Loss: 0.1427\n"
          ]
        },
        {
          "output_type": "stream",
          "name": "stderr",
          "text": [
            "[FT] Epoch 14/20: 100%|██████████| 64/64 [00:13<00:00,  4.76it/s, lr=0.0001, train_loss=0.11]\n"
          ]
        },
        {
          "output_type": "stream",
          "name": "stdout",
          "text": [
            "\n",
            "[FT] Epoch 14 - Val Loss: 0.0898\n",
            " New best model saved (Val Loss: 0.0898)\n"
          ]
        },
        {
          "output_type": "stream",
          "name": "stderr",
          "text": [
            "[FT] Epoch 15/20: 100%|██████████| 64/64 [00:14<00:00,  4.57it/s, lr=0.0001, train_loss=0.0369]\n"
          ]
        },
        {
          "output_type": "stream",
          "name": "stdout",
          "text": [
            "\n",
            "[FT] Epoch 15 - Val Loss: 0.0901\n"
          ]
        },
        {
          "output_type": "stream",
          "name": "stderr",
          "text": [
            "[FT] Epoch 16/20: 100%|██████████| 64/64 [00:14<00:00,  4.51it/s, lr=0.0001, train_loss=0.0328]\n"
          ]
        },
        {
          "output_type": "stream",
          "name": "stdout",
          "text": [
            "\n",
            "[FT] Epoch 16 - Val Loss: 0.0997\n"
          ]
        },
        {
          "output_type": "stream",
          "name": "stderr",
          "text": [
            "[FT] Epoch 17/20: 100%|██████████| 64/64 [00:13<00:00,  4.79it/s, lr=0.0001, train_loss=0.0267]\n"
          ]
        },
        {
          "output_type": "stream",
          "name": "stdout",
          "text": [
            "\n",
            "[FT] Epoch 17 - Val Loss: 0.0838\n",
            " New best model saved (Val Loss: 0.0838)\n"
          ]
        },
        {
          "output_type": "stream",
          "name": "stderr",
          "text": [
            "[FT] Epoch 18/20: 100%|██████████| 64/64 [00:13<00:00,  4.63it/s, lr=0.0001, train_loss=0.025]\n"
          ]
        },
        {
          "output_type": "stream",
          "name": "stdout",
          "text": [
            "\n",
            "[FT] Epoch 18 - Val Loss: 0.0754\n",
            " New best model saved (Val Loss: 0.0754)\n"
          ]
        },
        {
          "output_type": "stream",
          "name": "stderr",
          "text": [
            "[FT] Epoch 19/20: 100%|██████████| 64/64 [00:13<00:00,  4.73it/s, lr=0.0001, train_loss=0.0258]\n"
          ]
        },
        {
          "output_type": "stream",
          "name": "stdout",
          "text": [
            "\n",
            "[FT] Epoch 19 - Val Loss: 0.0706\n",
            " New best model saved (Val Loss: 0.0706)\n"
          ]
        },
        {
          "output_type": "stream",
          "name": "stderr",
          "text": [
            "[FT] Epoch 20/20: 100%|██████████| 64/64 [00:13<00:00,  4.69it/s, lr=0.0001, train_loss=0.0241]\n"
          ]
        },
        {
          "output_type": "stream",
          "name": "stdout",
          "text": [
            "\n",
            "[FT] Epoch 20 - Val Loss: 0.0721\n"
          ]
        }
      ]
    },
    {
      "cell_type": "markdown",
      "source": [
        "# Test"
      ],
      "metadata": {
        "id": "HJnDoWIccNWE"
      }
    },
    {
      "cell_type": "code",
      "source": [
        "import torch\n",
        "from tqdm import tqdm\n",
        "import csv\n",
        "import os\n",
        "\n",
        "# === CONFIG ===\n",
        "device = torch.device(\"cuda\" if torch.cuda.is_available() else \"cpu\")\n",
        "checkpoint_path = \"/content/drive/MyDrive/Computer_vision/pdlpr_finetune_weights_uc3m-lp/pdlpr_uc3m-lp.pth\"\n",
        "blank_idx = 0  # indice del token blank (di solito 0)\n",
        "\n",
        "\n",
        "\n",
        "\n",
        "# === RICOSTRUZIONE MODELLO ===\n",
        "model = LicensePlateRecognizer(vocab_size=len(char_to_idx))\n",
        "checkpoint = torch.load(checkpoint_path, map_location=device)\n",
        "\n",
        "\n",
        "try:\n",
        "    model.load_state_dict(checkpoint['model_state_dict'])\n",
        "    print(\"Loaded best model .\")\n",
        "except KeyError:\n",
        "    model.load_state_dict(checkpoint)\n",
        "    print(\" Loaded best model.\")\n",
        "\n",
        "model.to(device)\n",
        "model.eval()\n",
        "\n",
        "# === FUNZIONE DI TEST ===\n",
        "def test_model_ctc(model, test_loader, idx_to_char, blank_idx=0, device=\"cuda\", save_csv=False, csv_path=\"ctc_predictions.csv\"):\n",
        "    model.to(device)\n",
        "    model.eval()\n",
        "\n",
        "    correct_full = 0\n",
        "    correct_char = 0\n",
        "    total_char = 0\n",
        "    total_samples = 0\n",
        "    all_preds = []\n",
        "    all_targets = []\n",
        "\n",
        "    with torch.no_grad():\n",
        "        for images, labels, input_lengths, label_lengths in tqdm(test_loader):\n",
        "            images = images.to(device)\n",
        "            labels = labels.to(device)\n",
        "\n",
        "            logits = model(images)                        # [B, T, V]\n",
        "            log_probs = torch.nn.functional.log_softmax(logits, dim=-1)  # [B, T, V]\n",
        "            log_probs = log_probs.permute(1, 0, 2)        # [T, B, V]\n",
        "\n",
        "            pred_indices = torch.argmax(log_probs, dim=-1).permute(1, 0)  # [B, T]\n",
        "\n",
        "            for i in range(images.size(0)):\n",
        "                pred_str = ctc_decode(pred_indices[i].tolist(), idx_to_char, blank_idx)\n",
        "\n",
        "                start = sum(label_lengths[:i]).item() if i > 0 else 0\n",
        "                end = start + label_lengths[i].item()\n",
        "                label_seq = labels[start:end]\n",
        "                true_str = ''.join([idx_to_char[idx.item()] for idx in label_seq if idx.item() != blank_idx])\n",
        "\n",
        "                all_preds.append(pred_str)\n",
        "                all_targets.append(true_str)\n",
        "\n",
        "                if pred_str == true_str:\n",
        "                    correct_full += 1\n",
        "                correct_char += sum(p == t for p, t in zip(pred_str, true_str))\n",
        "                total_char += max(len(pred_str), len(true_str))\n",
        "                total_samples += 1\n",
        "\n",
        "    seq_acc = correct_full / total_samples * 100\n",
        "    char_acc = correct_char / total_char * 100\n",
        "    print(f\"\\n Sequence Accuracy {seq_acc:.2f}%\")\n",
        "    print(f\" Character Accuracy: {char_acc:.2f}%\")\n",
        "\n",
        "    if save_csv:\n",
        "        with open(csv_path, 'w', newline='', encoding='utf-8') as f:\n",
        "            writer = csv.writer(f)\n",
        "            writer.writerow([\"Ground Truth\", \"Prediction\"])\n",
        "            for gt, pred in zip(all_targets, all_preds):\n",
        "                writer.writerow([gt, pred])\n",
        "        print(f\" Saved Predictions inn {csv_path}\")\n",
        "\n",
        "\n",
        "test_model_ctc(\n",
        "    model=model,\n",
        "    test_loader=test_loader,\n",
        "    idx_to_char=idx_to_char,\n",
        "    blank_idx=blank_idx,\n",
        "    device=device,\n",
        "    save_csv=False,\n",
        "    csv_path=\"ctc_predictions.csv\"\n",
        ")\n"
      ],
      "metadata": {
        "id": "ms00zi-Rlz0e",
        "colab": {
          "base_uri": "https://localhost:8080/"
        },
        "outputId": "195ceb62-7b8c-4abf-d68e-3c96d9ea3fac"
      },
      "execution_count": null,
      "outputs": [
        {
          "output_type": "stream",
          "name": "stdout",
          "text": [
            " Loaded best model.\n"
          ]
        },
        {
          "output_type": "stream",
          "name": "stderr",
          "text": [
            "100%|██████████| 5/5 [00:00<00:00, 11.43it/s]"
          ]
        },
        {
          "output_type": "stream",
          "name": "stdout",
          "text": [
            "\n",
            " Sequence Accuracy 93.12%\n",
            " Character Accuracy: 97.88%\n"
          ]
        },
        {
          "output_type": "stream",
          "name": "stderr",
          "text": [
            "\n"
          ]
        }
      ]
    }
  ]
}