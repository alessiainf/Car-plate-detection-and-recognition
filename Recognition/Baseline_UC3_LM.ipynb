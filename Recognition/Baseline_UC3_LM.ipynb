{
  "nbformat": 4,
  "nbformat_minor": 0,
  "metadata": {
    "colab": {
      "provenance": [],
      "collapsed_sections": [
        "7e-BdGa9NZCi",
        "AAB4jV5dPTVF",
        "lKgL_oJdNGGB",
        "3Sqou08gQA2P",
        "ac5lk_NzPxyO",
        "Q7ujfjvGQXYw"
      ],
      "gpuType": "T4"
    },
    "kernelspec": {
      "name": "python3",
      "display_name": "Python 3"
    },
    "language_info": {
      "name": "python"
    },
    "accelerator": "GPU"
  },
  "cells": [
    {
      "cell_type": "markdown",
      "source": [
        "# Imports"
      ],
      "metadata": {
        "id": "7e-BdGa9NZCi"
      }
    },
    {
      "cell_type": "code",
      "source": [
        "import zipfile\n",
        "import os\n",
        "from PIL import Image\n",
        "from torch.utils.data import Dataset\n",
        "import torchvision.transforms as transforms\n",
        "import re\n",
        "import torch\n",
        "from torch.utils.data import DataLoader\n",
        "import random\n",
        "import numpy as np\n",
        "from tqdm import tqdm\n",
        "\n",
        "import torch.nn.functional as F\n",
        "import torch.nn as nn\n",
        "import torch.optim as optim\n",
        "from torch.optim.lr_scheduler import ReduceLROnPlateau\n",
        "import matplotlib.pyplot as plt"
      ],
      "metadata": {
        "id": "9-sJ4uR8NZL6"
      },
      "execution_count": null,
      "outputs": []
    },
    {
      "cell_type": "markdown",
      "source": [
        "# Utils"
      ],
      "metadata": {
        "id": "AAB4jV5dPTVF"
      }
    },
    {
      "cell_type": "code",
      "source": [
        "# Clean the plate\n",
        "def clean_plate(text):\n",
        "    return re.sub(r'[^A-Z0-9]', '', text.upper())\n",
        "\n",
        "def encode(text):\n",
        "    return [char_to_idx[c] for c in text if c in char_to_idx]\n",
        "\n",
        "def decode(indices):\n",
        "    return ''.join(idx_to_char[i] for i in indices if i != 0)  # ignora il blank\n"
      ],
      "metadata": {
        "id": "Fzidm38QPWbx"
      },
      "execution_count": null,
      "outputs": []
    },
    {
      "cell_type": "code",
      "source": [
        "def collate_fn(batch):\n",
        "    images, labels = zip(*batch)\n",
        "    images = torch.stack(images)\n",
        "\n",
        "    targets = [torch.tensor(encode(label), dtype=torch.long) for label in labels]\n",
        "    targets_concat = torch.cat(targets)\n",
        "    target_lengths = torch.tensor([len(t) for t in targets], dtype=torch.long)\n",
        "\n",
        "    input_lengths = torch.full(size=(len(images),), fill_value=35, dtype=torch.long)\n",
        "\n",
        "    return images, targets_concat, input_lengths, target_lengths\n"
      ],
      "metadata": {
        "id": "lozCovvjPUf7"
      },
      "execution_count": null,
      "outputs": []
    },
    {
      "cell_type": "code",
      "source": [
        "def set_seed(seed=42):\n",
        "    random.seed(seed)\n",
        "    np.random.seed(seed)\n",
        "    torch.manual_seed(seed)\n",
        "    torch.cuda.manual_seed_all(seed)\n",
        "\n",
        "    torch.backends.cudnn.deterministic = True\n",
        "    torch.backends.cudnn.benchmark = False"
      ],
      "metadata": {
        "id": "Ltdr-BNsPtHF"
      },
      "execution_count": null,
      "outputs": []
    },
    {
      "cell_type": "code",
      "source": [
        "def greedy_decode(output, idx_to_char):\n",
        "    output = output.permute(1, 0, 2)  # [B, T, C]\n",
        "    decoded = []\n",
        "\n",
        "    for probs in output:\n",
        "        pred = torch.argmax(probs, dim=1).tolist()  # [T]\n",
        "        prev = -1\n",
        "        seq = []\n",
        "        for p in pred:\n",
        "            if p != prev and p != 0:\n",
        "                seq.append(idx_to_char[p])\n",
        "            prev = p\n",
        "        decoded.append(\"\".join(seq))\n",
        "\n",
        "    return decoded\n",
        "\n",
        "def compute_accuracy(preds, targets):\n",
        "  correct_chars = total_chars = correct_plates = 0\n",
        "  for p, t in zip(preds, targets):\n",
        "      total_chars += max(len(p), len(t))\n",
        "      correct_chars += sum(a == b for a, b in zip(p, t))\n",
        "      if p == t:\n",
        "          correct_plates += 1\n",
        "  cer = correct_chars / total_chars\n",
        "  plate_acc = correct_plates / len(targets)\n",
        "  return cer, plate_acc"
      ],
      "metadata": {
        "id": "959HQTEuPsDv"
      },
      "execution_count": null,
      "outputs": []
    },
    {
      "cell_type": "code",
      "source": [
        "def evaluate_on_loader(model, dataloader, idx_to_char, device):\n",
        "    model.eval()\n",
        "    total = 0\n",
        "    correct = 0\n",
        "    all_preds = []\n",
        "    all_targets = []\n",
        "\n",
        "    with torch.no_grad():\n",
        "        for images, labels, input_lengths, label_lengths in tqdm(dataloader, desc=\"Evaluating\"):\n",
        "\n",
        "            images = images.to(device)\n",
        "            labels = labels.to(device)\n",
        "            label_lengths = label_lengths.to(device)\n",
        "\n",
        "            outputs = model(images)  # [T, B, C]\n",
        "            preds = greedy_decode(outputs, idx_to_char)\n",
        "\n",
        "            # Ricostruisci i target reali\n",
        "            targets = []\n",
        "            start = 0\n",
        "            for length in label_lengths:\n",
        "                label_seq = labels[start:start + length]\n",
        "                text = ''.join([idx_to_char[i.item()] for i in label_seq])\n",
        "                targets.append(text)\n",
        "                start += length\n",
        "\n",
        "            for pred, true in zip(preds, targets):\n",
        "                all_preds.append(pred)\n",
        "                all_targets.append(true)\n",
        "                total += 1\n",
        "                if pred == true:\n",
        "                    correct += 1\n",
        "\n",
        "    acc = correct / total * 100\n",
        "    return all_preds, all_targets"
      ],
      "metadata": {
        "id": "6gBtCBYtkCCR"
      },
      "execution_count": null,
      "outputs": []
    },
    {
      "cell_type": "code",
      "source": [
        "def show_wrong_predictions(model, test_loader, idx_to_char, device, max_errors=5):\n",
        "    model.eval()\n",
        "    shown = 0\n",
        "\n",
        "    with torch.no_grad():\n",
        "        for images, labels, input_lengths, label_lengths in test_loader:\n",
        "            images = images.to(device)\n",
        "            labels = labels.to(device)\n",
        "\n",
        "            outputs = model(images)\n",
        "            preds = greedy_decode(outputs, idx_to_char)\n",
        "\n",
        "            targets = []\n",
        "            start = 0\n",
        "            for length in label_lengths:\n",
        "                length = int(length)\n",
        "                label_seq = labels[start:start+length]\n",
        "                text = ''.join([idx_to_char[i.item()] for i in label_seq])\n",
        "                targets.append(text)\n",
        "                start += length\n",
        "\n",
        "            for img, pred, true in zip(images, preds, targets):\n",
        "                if pred != true:\n",
        "                    img_np = img.cpu().numpy().transpose(1, 2, 0)  # da [C,H,W] a [H,W,C]\n",
        "                    img_np = (img_np * 0.5 + 0.5).clip(0, 1)       # denormalize (mean=0.5, std=0.5)\n",
        "\n",
        "                    plt.figure(figsize=(6, 2))\n",
        "                    plt.imshow(img_np)\n",
        "                    plt.title(f\"Pred: {pred} | GT: {true}\", fontsize=12)\n",
        "                    plt.axis('off')\n",
        "                    plt.show()\n",
        "\n",
        "                    shown += 1\n",
        "                    if shown >= max_errors:\n",
        "                        return"
      ],
      "metadata": {
        "id": "a0CrnqInQmvP"
      },
      "execution_count": null,
      "outputs": []
    },
    {
      "cell_type": "markdown",
      "source": [
        "# Dataset preparation"
      ],
      "metadata": {
        "id": "lKgL_oJdNGGB"
      }
    },
    {
      "cell_type": "code",
      "source": [
        "from google.colab import drive\n",
        "\n",
        "drive.mount('/content/drive')"
      ],
      "metadata": {
        "colab": {
          "base_uri": "https://localhost:8080/"
        },
        "id": "E8Pauth4N9Zf",
        "outputId": "3f5d2ad3-2851-46ed-9b42-86c9945daf00"
      },
      "execution_count": null,
      "outputs": [
        {
          "output_type": "stream",
          "name": "stdout",
          "text": [
            "Mounted at /content/drive\n"
          ]
        }
      ]
    },
    {
      "cell_type": "code",
      "execution_count": null,
      "metadata": {
        "id": "1nyA9gW_NFhe"
      },
      "outputs": [],
      "source": [
        "zip_path = '/content/drive/MyDrive/Dataset_CV/RECOGNITION/UC3-LM_recognition.zip'\n",
        "extract_dir = '/content/UC3-LM'\n",
        "\n",
        "with zipfile.ZipFile(zip_path, 'r') as zip_ref:\n",
        "    zip_ref.extractall(extract_dir)\n"
      ]
    },
    {
      "cell_type": "code",
      "source": [
        "# Definizione del vocabolario\n",
        "alphabet = \"ABCDEFGHIJKLMNOPQRSTUVWXYZ0123456789\"\n",
        "vocab = sorted(set(alphabet))\n",
        "\n",
        "idx_to_char = ['-'] + vocab\n",
        "char_to_idx = {char: idx for idx, char in enumerate(idx_to_char)}  # 0 = blank\n",
        "num_classes = len(idx_to_char)\n",
        "\n"
      ],
      "metadata": {
        "id": "UDQ4fFMWOou6"
      },
      "execution_count": null,
      "outputs": []
    },
    {
      "cell_type": "code",
      "source": [
        "class UC3LMDataset(Dataset):\n",
        "    def __init__(self, img_dir, label_dir, transform=None):\n",
        "        self.img_dir = img_dir\n",
        "        self.label_dir = label_dir\n",
        "        self.filenames = [f for f in os.listdir(img_dir) if f.endswith('.jpg') or f.endswith('.png')]\n",
        "        self.transform = transform or transforms.Compose([\n",
        "            transforms.Resize((48, 144)),\n",
        "            transforms.ToTensor()\n",
        "        ])\n",
        "\n",
        "    def __len__(self):\n",
        "        return len(self.filenames)\n",
        "\n",
        "    def __getitem__(self, idx):\n",
        "        fname = self.filenames[idx]\n",
        "        img_path = os.path.join(self.img_dir, fname)\n",
        "        label_path = os.path.join(self.label_dir, fname.split('.')[0] + '.txt')\n",
        "\n",
        "        image = Image.open(img_path).convert(\"RGB\")\n",
        "        image = self.transform(image)\n",
        "\n",
        "        with open(label_path, 'r', encoding='utf-8') as f:\n",
        "            label = clean_plate(f.read().strip())\n",
        "\n",
        "        return image, label"
      ],
      "metadata": {
        "id": "Tcz4pQmNORUn"
      },
      "execution_count": null,
      "outputs": []
    },
    {
      "cell_type": "code",
      "source": [
        "#Transformations for data augmentation\n",
        "train_transform = transforms.Compose([\n",
        "    transforms.Resize((48, 144)),\n",
        "    transforms.ColorJitter(brightness=0.3, contrast=0.3),\n",
        "    transforms.RandomAffine(degrees=4, translate=(0.02, 0.02), scale=(0.9, 1.1)),\n",
        "    transforms.GaussianBlur(kernel_size=3, sigma=(0.1, 1.0)),\n",
        "    transforms.ToTensor(),\n",
        "    transforms.Normalize(mean=[0.5]*3, std=[0.5]*3),\n",
        "])\n",
        "\n",
        "\n",
        "transform = transforms.Compose([\n",
        "    transforms.Resize((48, 144)),\n",
        "    transforms.ToTensor(),\n",
        "    transforms.Normalize(mean=[0.5]*3, std=[0.5]*3),\n",
        "])"
      ],
      "metadata": {
        "id": "4lidbql-PNVK"
      },
      "execution_count": null,
      "outputs": []
    },
    {
      "cell_type": "code",
      "source": [
        "base_path = '/content/UC3-LM/filtered_OCR_clean'\n",
        "\n",
        "train_dataset = UC3LMDataset(\n",
        "    img_dir=os.path.join(base_path, 'images/train'),\n",
        "    label_dir=os.path.join(base_path, 'labels/train'),\n",
        "    transform=train_transform         # ⬅️ qui lo applichi\n",
        ")\n",
        "\n",
        "\n",
        "val_dataset = UC3LMDataset(\n",
        "    img_dir=os.path.join(base_path, 'images/val'),\n",
        "    label_dir=os.path.join(base_path, 'labels/val'),\n",
        "    transform=transform\n",
        ")\n",
        "\n",
        "test_dataset = UC3LMDataset(\n",
        "    img_dir=os.path.join(base_path, 'images/test'),\n",
        "    label_dir=os.path.join(base_path, 'labels/test'),\n",
        "    transform=transform\n",
        ")\n",
        "\n",
        "\n",
        "train_loader = DataLoader(train_dataset, batch_size=16, shuffle=True, collate_fn=collate_fn)\n",
        "val_loader = DataLoader(val_dataset, batch_size=16, shuffle=False, collate_fn=collate_fn)\n",
        "test_loader = DataLoader(test_dataset, batch_size=16, shuffle=False, collate_fn=collate_fn)"
      ],
      "metadata": {
        "id": "vzkWOa9cPO1p"
      },
      "execution_count": null,
      "outputs": []
    },
    {
      "cell_type": "markdown",
      "source": [
        "# Network"
      ],
      "metadata": {
        "id": "3Sqou08gQA2P"
      }
    },
    {
      "cell_type": "code",
      "source": [
        "class CRNN(nn.Module):\n",
        "    def __init__(self, img_height, num_classes):\n",
        "        super(CRNN, self).__init__()\n",
        "\n",
        "        # INPUT: [B, 3, 48, 144]\n",
        "        self.cnn = nn.Sequential(\n",
        "            nn.Conv2d(3, 64, 3, padding=1),  # RGB input\n",
        "            nn.ReLU(),\n",
        "            nn.MaxPool2d(2, 2),              # [B, 64, 24, 72]\n",
        "\n",
        "            nn.Conv2d(64, 128, 3, padding=1),\n",
        "            nn.ReLU(),\n",
        "            nn.MaxPool2d(2, 2),              # [B, 128, 12, 36]\n",
        "\n",
        "            nn.Conv2d(128, 256, 3, padding=1),\n",
        "            nn.ReLU(),\n",
        "            nn.Dropout2d(p=0.2),\n",
        "            nn.Conv2d(256, 256, 3, padding=1),\n",
        "            nn.ReLU(),\n",
        "            nn.MaxPool2d((2, 2), (2, 1), padding=(0, 1)),  # [B, 256, 6, 37]\n",
        "\n",
        "            nn.Conv2d(256, 512, 3, padding=1),\n",
        "            nn.BatchNorm2d(512),\n",
        "            nn.ReLU(),\n",
        "\n",
        "            nn.Conv2d(512, 512, 3, padding=1),\n",
        "            nn.BatchNorm2d(512),\n",
        "            nn.ReLU(),\n",
        "            nn.MaxPool2d((2, 2), (2, 1), padding=(0, 1))   # [B, 512, 3, 38]\n",
        "        )\n",
        "\n",
        "        self.rnn = nn.GRU(input_size=512 * 3, hidden_size=128,\n",
        "                  num_layers=1, bidirectional=True)\n",
        "        self.dropout = nn.Dropout(0.2)\n",
        "        self.fc = nn.Linear(128 * 2, num_classes)\n",
        "\n",
        "\n",
        "    def forward(self, x):\n",
        "        conv = self.cnn(x)            # [B, 512, 3, 38]\n",
        "        b, c, h, w = conv.size()\n",
        "        conv = conv.permute(3, 0, 1, 2)   # [T=38, B, C, H=3]\n",
        "        conv = conv.reshape(w, b, c * h) # [T=38, B, 512*3]\n",
        "\n",
        "        rnn_out, _ = self.rnn(conv)      # [T, B, 512]\n",
        "        rnn_out = self.dropout(rnn_out)\n",
        "        output = self.fc(rnn_out)        # [T, B, num_classes]\n",
        "        return F.log_softmax(output, dim=2)\n"
      ],
      "metadata": {
        "id": "cHShmZrrQCMO"
      },
      "execution_count": null,
      "outputs": []
    },
    {
      "cell_type": "code",
      "source": [
        "device = torch.device(\"cuda\" if torch.cuda.is_available() else \"cpu\")\n",
        "print(device)\n",
        "model = CRNN(img_height=48, num_classes=num_classes).to(device)\n",
        "criterion = nn.CTCLoss(blank=0, reduction='mean', zero_infinity=True)\n",
        "optimizer = torch.optim.Adam(model.parameters(), lr=7e-5, weight_decay=1e-5)\n",
        "scheduler = ReduceLROnPlateau(optimizer, mode='min', factor=0.5, patience=1, verbose=True)\n"
      ],
      "metadata": {
        "colab": {
          "base_uri": "https://localhost:8080/"
        },
        "id": "LYx9KHR7QFao",
        "outputId": "3235761e-192e-4275-8ff2-de827d812d71"
      },
      "execution_count": null,
      "outputs": [
        {
          "output_type": "stream",
          "name": "stdout",
          "text": [
            "cuda\n"
          ]
        },
        {
          "output_type": "stream",
          "name": "stderr",
          "text": [
            "/usr/local/lib/python3.11/dist-packages/torch/optim/lr_scheduler.py:62: UserWarning: The verbose parameter is deprecated. Please use get_last_lr() to access the learning rate.\n",
            "  warnings.warn(\n"
          ]
        }
      ]
    },
    {
      "cell_type": "markdown",
      "source": [
        "# Train (Fine-tuning with checkpoints)"
      ],
      "metadata": {
        "id": "ac5lk_NzPxyO"
      }
    },
    {
      "cell_type": "code",
      "source": [
        "# Checkpoint paths\n",
        "checkpoint_dir = \"/content/drive/MyDrive/Computer_vision/crnn_finetune_weights_uc3lm\"\n",
        "os.makedirs(checkpoint_dir, exist_ok=True)\n",
        "last_ckpt_path = os.path.join(checkpoint_dir, \"last.pth\")\n",
        "best_ckpt_path = os.path.join(checkpoint_dir, \"best.pth\")\n",
        "\n",
        "# Load pre-trainined weights (without fc layer because different vocabulary)\n",
        "state_dict = torch.load(\"/content/drive/MyDrive/Computer_vision/crnn_weights/best_crnn.pth\", map_location=device)\n",
        "filtered_dict = {k: v for k, v in state_dict.items() if not k.startswith(\"fc.\")}\n",
        "model.load_state_dict(filtered_dict, strict=False)\n",
        "print(\"Pre-trained weights loaded and FC ignored\")\n",
        "\n",
        "\n",
        "if os.path.exists(last_ckpt_path):\n",
        "    checkpoint = torch.load(last_ckpt_path, map_location=device)\n",
        "    model.load_state_dict(checkpoint['model_state_dict'])\n",
        "    optimizer.load_state_dict(checkpoint['optimizer_state_dict'])\n",
        "    if scheduler and checkpoint.get('scheduler_state_dict'):\n",
        "        scheduler.load_state_dict(checkpoint['scheduler_state_dict'])\n",
        "    start_epoch = checkpoint['epoch'] + 1\n",
        "    print(f\"Restart from checkpoint (epoch {start_epoch})\")\n",
        "else:\n",
        "    start_epoch = 0\n",
        "    print(\"No checkpoint found. Start from epoch 0\")\n",
        "\n",
        "def train_finetune(model, train_loader, val_loader, epochs, device, optimizer, criterion, scheduler=None, seed=42):\n",
        "    set_seed(seed)\n",
        "    best_val_loss = float('inf')\n",
        "\n",
        "    for epoch in range(start_epoch, epochs):\n",
        "        model.train()\n",
        "        total_loss = 0\n",
        "        pbar = tqdm(train_loader, desc=f\"[FT] Epoch {epoch+1}/{epochs}\")\n",
        "\n",
        "        for images, labels, input_lengths, label_lengths in pbar:\n",
        "\n",
        "            images = images.to(device)\n",
        "            labels = labels.to(device)\n",
        "            label_lengths = label_lengths.to(device)\n",
        "\n",
        "            outputs = model(images)  # [T, B, C]\n",
        "            T, B = outputs.size(0), outputs.size(1)\n",
        "            input_lengths = torch.full(size=(B,), fill_value=T, dtype=torch.long, device=device)\n",
        "\n",
        "            loss = criterion(outputs, labels, input_lengths, label_lengths)\n",
        "            optimizer.zero_grad()\n",
        "            loss.backward()\n",
        "            optimizer.step()\n",
        "\n",
        "            total_loss += loss.item()\n",
        "            pbar.set_postfix(train_loss=total_loss / (pbar.n + 1), lr=optimizer.param_groups[0]['lr'])\n",
        "\n",
        "        val_loss = evaluate_finetune(model, val_loader, criterion, device)\n",
        "        print(f\"\\n[FT] Epoch {epoch+1} - Val Loss: {val_loss:.4f}\")\n",
        "\n",
        "        if scheduler:\n",
        "            scheduler.step(val_loss)\n",
        "\n",
        "        #Save checkpoint\n",
        "        torch.save({\n",
        "            'epoch': epoch,\n",
        "            'model_state_dict': model.state_dict(),\n",
        "            'optimizer_state_dict': optimizer.state_dict(),\n",
        "            'scheduler_state_dict': scheduler.state_dict() if scheduler else None,\n",
        "            'best_val_loss': best_val_loss\n",
        "        }, last_ckpt_path)\n",
        "\n",
        "        #Save best model\n",
        "        if val_loss < best_val_loss:\n",
        "            best_val_loss = val_loss\n",
        "            torch.save(model.state_dict(), best_ckpt_path)\n",
        "            print(\"Best model saved\")\n",
        "\n",
        "def evaluate_finetune(model, val_loader, criterion, device):\n",
        "    model.eval()\n",
        "    total_loss = 0\n",
        "\n",
        "    with torch.no_grad():\n",
        "        for images, labels, input_lengths, label_lengths in val_loader:\n",
        "\n",
        "            images = images.to(device)\n",
        "            labels = labels.to(device)\n",
        "            label_lengths = label_lengths.to(device)\n",
        "\n",
        "            outputs = model(images)  # [T, B, C]\n",
        "            T, B = outputs.size(0), outputs.size(1)\n",
        "            input_lengths = torch.full(size=(B,), fill_value=T, dtype=torch.long, device=device)\n",
        "\n",
        "            loss = criterion(outputs, labels, input_lengths, label_lengths)\n",
        "            total_loss += loss.item()\n",
        "\n",
        "            preds = greedy_decode(outputs, idx_to_char)\n",
        "            targets = []\n",
        "            start = 0\n",
        "            for length in label_lengths:\n",
        "                label_seq = labels[start:start+length]\n",
        "                text = ''.join([idx_to_char[i.item()] for i in label_seq])\n",
        "                targets.append(text)\n",
        "                start += length\n",
        "\n",
        "            print(\"Pred:\", preds[:3])\n",
        "            print(\"True:\", targets[:3])\n",
        "            break\n",
        "\n",
        "    return total_loss / len(val_loader)"
      ],
      "metadata": {
        "id": "c0y0-fZWPx9V",
        "colab": {
          "base_uri": "https://localhost:8080/"
        },
        "outputId": "9499ad5f-f8aa-41c8-8cf4-e66620d1d4bf"
      },
      "execution_count": null,
      "outputs": [
        {
          "output_type": "stream",
          "name": "stdout",
          "text": [
            "Pre-trained weights loaded and FC ignored\n",
            "No checkpoint found. Start from epoch 0\n"
          ]
        }
      ]
    },
    {
      "cell_type": "code",
      "source": [
        "train_finetune(\n",
        "    model=model,\n",
        "    train_loader=train_loader,\n",
        "    val_loader=val_loader,\n",
        "    epochs=20,\n",
        "    device=device,\n",
        "    optimizer=optimizer,\n",
        "    criterion=criterion,\n",
        "    scheduler=scheduler,\n",
        "    seed=42\n",
        ")"
      ],
      "metadata": {
        "id": "3-tDiyqLP__d",
        "colab": {
          "base_uri": "https://localhost:8080/"
        },
        "outputId": "485534a2-5b4e-439b-9d5d-b21af8284a41"
      },
      "execution_count": null,
      "outputs": [
        {
          "output_type": "stream",
          "name": "stderr",
          "text": [
            "[FT] Epoch 1/20: 100%|██████████| 127/127 [00:09<00:00, 12.81it/s, lr=7e-5, train_loss=4.76]\n"
          ]
        },
        {
          "output_type": "stream",
          "name": "stdout",
          "text": [
            "Pred: ['', '', '']\n",
            "True: ['771DM', '912FB', '828TB']\n",
            "\n",
            "[FT] Epoch 1 - Val Loss: 0.1681\n",
            "Best model saved\n"
          ]
        },
        {
          "output_type": "stream",
          "name": "stderr",
          "text": [
            "[FT] Epoch 2/20: 100%|██████████| 127/127 [00:08<00:00, 14.37it/s, lr=7e-5, train_loss=3.25]\n"
          ]
        },
        {
          "output_type": "stream",
          "name": "stdout",
          "text": [
            "Pred: ['', '', '']\n",
            "True: ['771DM', '912FB', '828TB']\n",
            "\n",
            "[FT] Epoch 2 - Val Loss: 0.1529\n",
            "Best model saved\n"
          ]
        },
        {
          "output_type": "stream",
          "name": "stderr",
          "text": [
            "[FT] Epoch 3/20: 100%|██████████| 127/127 [00:08<00:00, 14.23it/s, lr=7e-5, train_loss=2.78]\n"
          ]
        },
        {
          "output_type": "stream",
          "name": "stdout",
          "text": [
            "Pred: ['', '', '2']\n",
            "True: ['771DM', '912FB', '828TB']\n",
            "\n",
            "[FT] Epoch 3 - Val Loss: 0.1074\n",
            "Best model saved\n"
          ]
        },
        {
          "output_type": "stream",
          "name": "stderr",
          "text": [
            "[FT] Epoch 4/20: 100%|██████████| 127/127 [00:07<00:00, 16.19it/s, lr=7e-5, train_loss=1.86]\n"
          ]
        },
        {
          "output_type": "stream",
          "name": "stdout",
          "text": [
            "Pred: ['771', '912', '828B']\n",
            "True: ['771DM', '912FB', '828TB']\n",
            "\n",
            "[FT] Epoch 4 - Val Loss: 0.0711\n",
            "Best model saved\n"
          ]
        },
        {
          "output_type": "stream",
          "name": "stderr",
          "text": [
            "[FT] Epoch 5/20: 100%|██████████| 127/127 [00:08<00:00, 14.79it/s, lr=7e-5, train_loss=1.53]\n"
          ]
        },
        {
          "output_type": "stream",
          "name": "stdout",
          "text": [
            "Pred: ['771M', '912B', '828B']\n",
            "True: ['771DM', '912FB', '828TB']\n",
            "\n",
            "[FT] Epoch 5 - Val Loss: 0.0622\n",
            "Best model saved\n"
          ]
        },
        {
          "output_type": "stream",
          "name": "stderr",
          "text": [
            "[FT] Epoch 6/20: 100%|██████████| 127/127 [00:09<00:00, 13.92it/s, lr=7e-5, train_loss=1.37]\n"
          ]
        },
        {
          "output_type": "stream",
          "name": "stdout",
          "text": [
            "Pred: ['771M', '912B', '828B']\n",
            "True: ['771DM', '912FB', '828TB']\n",
            "\n",
            "[FT] Epoch 6 - Val Loss: 0.0565\n",
            "Best model saved\n"
          ]
        },
        {
          "output_type": "stream",
          "name": "stderr",
          "text": [
            "[FT] Epoch 7/20: 100%|██████████| 127/127 [00:07<00:00, 15.90it/s, lr=7e-5, train_loss=1.24]\n"
          ]
        },
        {
          "output_type": "stream",
          "name": "stdout",
          "text": [
            "Pred: ['771M', '912B', '828B']\n",
            "True: ['771DM', '912FB', '828TB']\n",
            "\n",
            "[FT] Epoch 7 - Val Loss: 0.0525\n",
            "Best model saved\n"
          ]
        },
        {
          "output_type": "stream",
          "name": "stderr",
          "text": [
            "[FT] Epoch 8/20: 100%|██████████| 127/127 [00:08<00:00, 14.34it/s, lr=7e-5, train_loss=1.15]\n"
          ]
        },
        {
          "output_type": "stream",
          "name": "stdout",
          "text": [
            "Pred: ['771M', '912B', '828B']\n",
            "True: ['771DM', '912FB', '828TB']\n",
            "\n",
            "[FT] Epoch 8 - Val Loss: 0.0507\n",
            "Best model saved\n"
          ]
        },
        {
          "output_type": "stream",
          "name": "stderr",
          "text": [
            "[FT] Epoch 9/20: 100%|██████████| 127/127 [00:09<00:00, 13.91it/s, lr=7e-5, train_loss=1.04]\n"
          ]
        },
        {
          "output_type": "stream",
          "name": "stdout",
          "text": [
            "Pred: ['771M', '912B', '828B']\n",
            "True: ['771DM', '912FB', '828TB']\n",
            "\n",
            "[FT] Epoch 9 - Val Loss: 0.0458\n",
            "Best model saved\n"
          ]
        },
        {
          "output_type": "stream",
          "name": "stderr",
          "text": [
            "[FT] Epoch 10/20: 100%|██████████| 127/127 [00:07<00:00, 15.99it/s, lr=7e-5, train_loss=0.92]\n"
          ]
        },
        {
          "output_type": "stream",
          "name": "stdout",
          "text": [
            "Pred: ['771M', '912B', '828T']\n",
            "True: ['771DM', '912FB', '828TB']\n",
            "\n",
            "[FT] Epoch 10 - Val Loss: 0.0308\n",
            "Best model saved\n"
          ]
        },
        {
          "output_type": "stream",
          "name": "stderr",
          "text": [
            "[FT] Epoch 11/20: 100%|██████████| 127/127 [00:08<00:00, 14.36it/s, lr=7e-5, train_loss=0.508]\n"
          ]
        },
        {
          "output_type": "stream",
          "name": "stdout",
          "text": [
            "Pred: ['771DM', '912FB', '828TB']\n",
            "True: ['771DM', '912FB', '828TB']\n",
            "\n",
            "[FT] Epoch 11 - Val Loss: 0.0110\n",
            "Best model saved\n"
          ]
        },
        {
          "output_type": "stream",
          "name": "stderr",
          "text": [
            "[FT] Epoch 12/20: 100%|██████████| 127/127 [00:09<00:00, 13.66it/s, lr=7e-5, train_loss=0.266]\n"
          ]
        },
        {
          "output_type": "stream",
          "name": "stdout",
          "text": [
            "Pred: ['771DM', '912FB', '828TB']\n",
            "True: ['771DM', '912FB', '828TB']\n",
            "\n",
            "[FT] Epoch 12 - Val Loss: 0.0080\n",
            "Best model saved\n"
          ]
        },
        {
          "output_type": "stream",
          "name": "stderr",
          "text": [
            "[FT] Epoch 13/20: 100%|██████████| 127/127 [00:08<00:00, 14.55it/s, lr=7e-5, train_loss=0.194]\n"
          ]
        },
        {
          "output_type": "stream",
          "name": "stdout",
          "text": [
            "Pred: ['771DM', '912FB', '828TB']\n",
            "True: ['771DM', '912FB', '828TB']\n",
            "\n",
            "[FT] Epoch 13 - Val Loss: 0.0049\n",
            "Best model saved\n"
          ]
        },
        {
          "output_type": "stream",
          "name": "stderr",
          "text": [
            "[FT] Epoch 14/20: 100%|██████████| 127/127 [00:08<00:00, 14.61it/s, lr=7e-5, train_loss=0.153]\n"
          ]
        },
        {
          "output_type": "stream",
          "name": "stdout",
          "text": [
            "Pred: ['771DM', '912FB', '828TB']\n",
            "True: ['771DM', '912FB', '828TB']\n",
            "\n",
            "[FT] Epoch 14 - Val Loss: 0.0034\n",
            "Best model saved\n"
          ]
        },
        {
          "output_type": "stream",
          "name": "stderr",
          "text": [
            "[FT] Epoch 15/20: 100%|██████████| 127/127 [00:09<00:00, 13.75it/s, lr=7e-5, train_loss=0.136]\n"
          ]
        },
        {
          "output_type": "stream",
          "name": "stdout",
          "text": [
            "Pred: ['771DM', '912FB', '828TB']\n",
            "True: ['771DM', '912FB', '828TB']\n",
            "\n",
            "[FT] Epoch 15 - Val Loss: 0.0034\n",
            "Best model saved\n"
          ]
        },
        {
          "output_type": "stream",
          "name": "stderr",
          "text": [
            "[FT] Epoch 16/20: 100%|██████████| 127/127 [00:09<00:00, 13.53it/s, lr=7e-5, train_loss=0.111]\n"
          ]
        },
        {
          "output_type": "stream",
          "name": "stdout",
          "text": [
            "Pred: ['771DM', '912FB', '828TB']\n",
            "True: ['771DM', '912FB', '828TB']\n",
            "\n",
            "[FT] Epoch 16 - Val Loss: 0.0022\n",
            "Best model saved\n"
          ]
        },
        {
          "output_type": "stream",
          "name": "stderr",
          "text": [
            "[FT] Epoch 17/20: 100%|██████████| 127/127 [00:08<00:00, 15.51it/s, lr=7e-5, train_loss=0.1]\n"
          ]
        },
        {
          "output_type": "stream",
          "name": "stdout",
          "text": [
            "Pred: ['771DM', '912FB', '828TB']\n",
            "True: ['771DM', '912FB', '828TB']\n",
            "\n",
            "[FT] Epoch 17 - Val Loss: 0.0023\n"
          ]
        },
        {
          "output_type": "stream",
          "name": "stderr",
          "text": [
            "[FT] Epoch 18/20: 100%|██████████| 127/127 [00:09<00:00, 14.01it/s, lr=7e-5, train_loss=0.0818]\n"
          ]
        },
        {
          "output_type": "stream",
          "name": "stdout",
          "text": [
            "Pred: ['771DM', '912FB', '828TB']\n",
            "True: ['771DM', '912FB', '828TB']\n",
            "\n",
            "[FT] Epoch 18 - Val Loss: 0.0016\n",
            "Best model saved\n"
          ]
        },
        {
          "output_type": "stream",
          "name": "stderr",
          "text": [
            "[FT] Epoch 19/20: 100%|██████████| 127/127 [00:09<00:00, 13.55it/s, lr=7e-5, train_loss=0.0758]\n"
          ]
        },
        {
          "output_type": "stream",
          "name": "stdout",
          "text": [
            "Pred: ['771DM', '912FB', '828TB']\n",
            "True: ['771DM', '912FB', '828TB']\n",
            "\n",
            "[FT] Epoch 19 - Val Loss: 0.0020\n"
          ]
        },
        {
          "output_type": "stream",
          "name": "stderr",
          "text": [
            "[FT] Epoch 20/20: 100%|██████████| 127/127 [00:08<00:00, 15.85it/s, lr=7e-5, train_loss=0.0729]\n"
          ]
        },
        {
          "output_type": "stream",
          "name": "stdout",
          "text": [
            "Pred: ['771DM', '912FB', '828TB']\n",
            "True: ['771DM', '912FB', '828TB']\n",
            "\n",
            "[FT] Epoch 20 - Val Loss: 0.0017\n"
          ]
        }
      ]
    },
    {
      "cell_type": "markdown",
      "source": [
        "# Test"
      ],
      "metadata": {
        "id": "Q7ujfjvGQXYw"
      }
    },
    {
      "cell_type": "code",
      "source": [
        "device = torch.device(\"cuda\" if torch.cuda.is_available() else \"cpu\")\n",
        "model = CRNN(img_height=48, num_classes=num_classes)\n",
        "model.load_state_dict(torch.load(\n",
        "    \"/content/drive/MyDrive/Computer_vision/crnn_finetune_weights_uc3lm/best.pth\",\n",
        "    map_location=device))\n",
        "model.eval().to(device)\n",
        "\n",
        "# Valutazione\n",
        "all_preds, all_targets = evaluate_on_loader(model, test_loader, idx_to_char, device)\n",
        "cer, plate_acc = compute_accuracy(all_preds, all_targets)\n",
        "\n",
        "print(f\"\\nTest UC3-LM\")\n",
        "print(f\"Character accuracy: {cer:.4f}\")\n",
        "print(f\"Sequence accuracy:  {plate_acc:.4f}\")\n",
        "\n",
        "# Mostra gli errori\n",
        "print(\"\\nPrediction errors:\")\n",
        "for i, (pred, true) in enumerate(zip(all_preds, all_targets)):\n",
        "    if pred != true:\n",
        "        print(f\"[{i}] GT: {true}  -->  Pred: {pred}\")\n"
      ],
      "metadata": {
        "id": "QgIThfYSQg55",
        "colab": {
          "base_uri": "https://localhost:8080/"
        },
        "outputId": "922088c8-ebf1-46e5-8839-21a860718303"
      },
      "execution_count": null,
      "outputs": [
        {
          "output_type": "stream",
          "name": "stderr",
          "text": [
            "Evaluating: 100%|██████████| 10/10 [00:00<00:00, 33.92it/s]"
          ]
        },
        {
          "output_type": "stream",
          "name": "stdout",
          "text": [
            "\n",
            "Plate-level Accuracy: 92.50% (148/160)\n",
            "\n",
            "Test UC3-LM\n",
            "Character accuracy: 0.9663\n",
            "Sequence accuracy:  0.9250\n",
            "\n",
            "Prediction errors:\n",
            "[19] GT: 439JN  -->  Pred: GT\n",
            "[34] GT: 422ND  -->  Pred: 22XV\n",
            "[43] GT: 530FF  -->  Pred: 30FF\n",
            "[49] GT: M075V  -->  Pred: 4075V\n",
            "[74] GT: M847L  -->  Pred: M4817\n",
            "[82] GT: 858KS  -->  Pred: 858K5\n",
            "[87] GT: 028TC  -->  Pred: 028TG\n",
            "[89] GT: 220DP  -->  Pred: 220DB\n",
            "[101] GT: 714SY  -->  Pred: 7145Y\n",
            "[102] GT: 355PZ  -->  Pred: 355PT\n",
            "[138] GT: 853CZ  -->  Pred: 453Z\n",
            "[155] GT: 051FN  -->  Pred: 051FV\n"
          ]
        },
        {
          "output_type": "stream",
          "name": "stderr",
          "text": [
            "\n"
          ]
        }
      ]
    },
    {
      "cell_type": "code",
      "source": [
        "show_wrong_predictions(model, test_loader, idx_to_char, device, max_errors=5)"
      ],
      "metadata": {
        "id": "51sJWlFOQkUI",
        "colab": {
          "base_uri": "https://localhost:8080/",
          "height": 997
        },
        "outputId": "8bcab009-cb70-46cd-d5d3-940dede6a6e3"
      },
      "execution_count": null,
      "outputs": [
        {
          "output_type": "display_data",
          "data": {
            "text/plain": [
              "<Figure size 600x200 with 1 Axes>"
            ],
            "image/png": "[encoded data removed]"
          },
          "metadata": {}
        },
        {
          "output_type": "display_data",
          "data": {
            "text/plain": [
              "<Figure size 600x200 with 1 Axes>"
            ],
            "image/png": "[encoded data removed]"
          },
          "metadata": {}
        },
        {
          "output_type": "display_data",
          "data": {
            "text/plain": [
              "<Figure size 600x200 with 1 Axes>"
            ],
            "image/png": "[encoded data removed]"
          },
          "metadata": {}
        },
        {
          "output_type": "display_data",
          "data": {
            "text/plain": [
              "<Figure size 600x200 with 1 Axes>"
            ],
            "image/png": "[encoded data removed]"
          },
          "metadata": {}
        },
        {
          "output_type": "display_data",
          "data": {
            "text/plain": [
              "<Figure size 600x200 with 1 Axes>"
            ],
            "image/png": "[encoded data removed]"
          },
          "metadata": {}
        }
      ]
    }
  ]
}